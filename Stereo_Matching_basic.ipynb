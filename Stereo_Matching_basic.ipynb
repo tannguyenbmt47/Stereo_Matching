{
 "cells": [
  {
   "cell_type": "code",
   "execution_count": null,
   "metadata": {},
   "outputs": [],
   "source": [
    "import cv2\n",
    "import numpy as np\n",
    "\n",
    "def distance(x,y):\n",
    "    return abs(x-y)\n",
    "\n",
    "def pixel_wise_matching(left_img, right_img, disparity_range, save_result = True):\n",
    "    #  Đọc ảnh trái phải và ép kiểu về np.float32\n",
    "\n",
    "    img_left = cv2.imread(left_img,0)\n",
    "    img_right = cv2.imread(right_img,0)\n",
    "\n",
    "    img_left = img_left.astype(np.float32)\n",
    "    img_right = img_right.astype(np.float32)\n",
    "\n",
    "    # Khởi tạo 2 biến height, width\n",
    "    height, width = img_left.shape()[:2]\n",
    "\n",
    "    # Tạo disparity map trống\n",
    "    depth = np.zeros((height, width), np.uint8)\n",
    "    scale = 16\n",
    "    max_value = 255\n",
    "\n",
    "    for y in range(height):\n",
    "        for x in range(width):\n",
    "            # Find j where cost has minimum value\n",
    "            disparity = 0\n",
    "            cost_min = max_value\n",
    "            \n",
    "            for j in range(disparity_range):\n",
    "                cost = max_value if (x-j) < 0 else distance(int(img_left[y,x]) - int(img_right[y,x - j]))\n",
    "\n",
    "                if cost < cost_min:\n",
    "                    cost_min = cost\n",
    "                    disparity = j\n",
    "\n",
    "                depth[y,x] = disparity*scale\n",
    "\n",
    "    \n",
    "    if save_result == True:\n",
    "        print(\"Saving result...\")\n",
    "\n",
    "        cv2.imwrite('pixel_wise_l1.png', depth)\n",
    "        cv2.imwrite('pixel_wise_l1_color.png', cv2.applyColorMap(depth, cv2.COLORMAP_JET))\n",
    "\n",
    "    print(\"Done\")\n",
    "\n",
    "    return depth"
   ]
  }
 ],
 "metadata": {
  "kernelspec": {
   "display_name": "env",
   "language": "python",
   "name": "python3"
  },
  "language_info": {
   "name": "python",
   "version": "3.10.12"
  }
 },
 "nbformat": 4,
 "nbformat_minor": 2
}
