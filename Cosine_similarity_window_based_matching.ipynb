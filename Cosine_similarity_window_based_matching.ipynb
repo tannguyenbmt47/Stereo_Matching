{
 "cells": [
  {
   "cell_type": "code",
   "execution_count": 1,
   "metadata": {},
   "outputs": [],
   "source": [
    "import numpy as np\n",
    "import cv2"
   ]
  },
  {
   "cell_type": "code",
   "execution_count": 2,
   "metadata": {},
   "outputs": [],
   "source": [
    "def cosine_similarity(x, y):\n",
    "    numerator = np.dot(x,y)\n",
    "    denominator = np.linalg.norm(x)*np.linalg.norm(y)\n",
    "\n",
    "    return numerator/denominator"
   ]
  },
  {
   "cell_type": "code",
   "execution_count": 3,
   "metadata": {},
   "outputs": [],
   "source": [
    "def window_based_matching(left_img, right_img, disparity_range, kernel_size=5, save_result=True):\n",
    "    # Đọc và chuyển đổi ảnh trái, phải sang dạng grayscale\n",
    "    left = cv2.imread(left_img, 0).astype(np.float32)\n",
    "    right = cv2.imread(right_img, 0).astype(np.float32)\n",
    "    \n",
    "    height, width = left.shape[:2]\n",
    "    \n",
    "    # Tạo bản đồ disparity rỗng\n",
    "    depth = np.zeros((height, width), np.uint8)\n",
    "    kernel_half = kernel_size // 2\n",
    "    scale = 3\n",
    "    \n",
    "    for y in range(kernel_half, height - kernel_half):\n",
    "        for x in range(kernel_half, width - kernel_half):\n",
    "            # Tìm j với chi phí có giá trị tối ưu nhất\n",
    "            disparity = 0\n",
    "            cost_optimal = -1\n",
    "\n",
    "            for j in range(disparity_range):\n",
    "                d = x - j\n",
    "                cost = -1\n",
    "                if (d - kernel_half) > 0:\n",
    "                    wp = left[(y - kernel_half):(y + kernel_half) + 1, (x - kernel_half):(x + kernel_half) + 1]\n",
    "                    wqd = right[(y - kernel_half):(y + kernel_half) + 1, (d - kernel_half):(d + kernel_half) + 1]\n",
    "\n",
    "                    wp_flattened = wp.flatten()\n",
    "                    wqd_flattened = wqd.flatten()\n",
    "\n",
    "                    cost = cosine_similarity(wp_flattened, wqd_flattened)\n",
    "\n",
    "                    if cost > cost_optimal:\n",
    "                        cost_optimal = cost\n",
    "                        disparity = j\n",
    "\n",
    "            # Gán giá trị độ sâu tại (y, x) bằng j (disparity)\n",
    "            # Nhân với hệ số tỉ lệ để hiển thị\n",
    "            depth[y, x] = disparity * scale\n",
    "\n",
    "    if save_result:\n",
    "        print('Saving result...')\n",
    "        # Lưu kết quả\n",
    "        cv2.imwrite('result/window_based_cosine_similarity.png', depth)\n",
    "        cv2.imwrite('result/window_based_cosine_similarity_color.png', cv2.applyColorMap(depth, cv2.COLORMAP_JET))\n",
    "\n",
    "    print('Done.')\n",
    "    return depth"
   ]
  },
  {
   "cell_type": "code",
   "execution_count": 4,
   "metadata": {},
   "outputs": [
    {
     "name": "stdout",
     "output_type": "stream",
     "text": [
      "Saving result...\n",
      "Done.\n"
     ]
    },
    {
     "data": {
      "text/plain": [
       "array([[  0,   0,   0, ...,   0,   0,   0],\n",
       "       [  0,   0,   0, ...,   0,   0,   0],\n",
       "       [  0,   0,   0, ...,  48,   0,   0],\n",
       "       ...,\n",
       "       [  0,   0,   0, ..., 126,   0,   0],\n",
       "       [  0,   0,   0, ...,   0,   0,   0],\n",
       "       [  0,   0,   0, ...,   0,   0,   0]], dtype=uint8)"
      ]
     },
     "execution_count": 4,
     "metadata": {},
     "output_type": "execute_result"
    }
   ],
   "source": [
    "window_based_matching(\"Aloe/Aloe_left_1.png\",\"Aloe/Aloe_right_3.png\",disparity_range = 64, kernel_size=5)"
   ]
  }
 ],
 "metadata": {
  "kernelspec": {
   "display_name": "env",
   "language": "python",
   "name": "python3"
  },
  "language_info": {
   "codemirror_mode": {
    "name": "ipython",
    "version": 3
   },
   "file_extension": ".py",
   "mimetype": "text/x-python",
   "name": "python",
   "nbconvert_exporter": "python",
   "pygments_lexer": "ipython3",
   "version": "3.10.12"
  }
 },
 "nbformat": 4,
 "nbformat_minor": 2
}
